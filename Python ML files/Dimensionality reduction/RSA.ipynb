{
 "cells": [
  {
   "cell_type": "markdown",
   "metadata": {
    "id": "UzgxzoKURab5"
   },
   "source": [
    "# Cyber Lab\n",
    "* Topic :- <i>RSA Encryption and Decryption"
   ]
  },
  {
   "cell_type": "markdown",
   "metadata": {
    "id": "muzheAHjStX6"
   },
   "source": [
    "Submitted By :-<br>\n",
    "Avhijit Nair<br>\n",
    "18bce7040"
   ]
  },
  {
   "cell_type": "code",
   "execution_count": 1,
   "metadata": {
    "colab": {
     "base_uri": "https://localhost:8080/",
     "height": 0
    },
    "id": "b88nJjrdQ9ZO",
    "outputId": "dc82f5d2-0960-4dfe-d013-3af84e64ea74"
   },
   "outputs": [
    {
     "name": "stdout",
     "output_type": "stream",
     "text": [
      "Collecting pycryptodome\n",
      "\u001b[?25l  Downloading https://files.pythonhosted.org/packages/2b/6f/7e38d7c97fbbc3987539c804282c33f56b6b07381bf2390deead696440c5/pycryptodome-3.9.9-cp36-cp36m-manylinux1_x86_64.whl (13.7MB)\n",
      "\u001b[K     |████████████████████████████████| 13.7MB 316kB/s \n",
      "\u001b[?25hInstalling collected packages: pycryptodome\n",
      "Successfully installed pycryptodome-3.9.9\n"
     ]
    }
   ],
   "source": [
    "pip install pycryptodome"
   ]
  },
  {
   "cell_type": "code",
   "execution_count": 5,
   "metadata": {
    "colab": {
     "base_uri": "https://localhost:8080/",
     "height": 0
    },
    "id": "4vu576cPSbUq",
    "outputId": "bb91ca67-24fe-4b78-9312-76a9c7625845"
   },
   "outputs": [
    {
     "name": "stdout",
     "output_type": "stream",
     "text": [
      "Signature: b'01abe04f9534920739e210d5fd4be741c74950ae0cfed650bb8260f3eaddbb8e58b5492e36ff70a47c34dc927be954d067c57773e0c65010d32cda2b4953bb44a4713b31545ad61d471994f20ac111312339200e4c3b5d7be2cd5de3e0fe3b24b6e301c7be68de523ea2872ccc9fb6414ae4def45083cf3bbeafcbffd6022da0'\n",
      "Signature is valid.\n",
      "Signature is invalid.\n"
     ]
    }
   ],
   "source": [
    "from Crypto.PublicKey import RSA\n",
    "from Crypto.Signature.pkcs1_15 import PKCS115_SigScheme\n",
    "from Crypto.Hash import SHA256\n",
    "import binascii\n",
    "\n",
    "# Generate 1024-bit RSA key pair (private + public key)\n",
    "keyPair = RSA.generate(bits=1024)\n",
    "pubKey = keyPair.publickey()\n",
    "\n",
    "# Sign the message using the PKCS#1 v1.5 signature scheme (RSASP1)\n",
    "msg = b'Elon Musk is the founder of Tesla'\n",
    "hash = SHA256.new(msg)\n",
    "signer = PKCS115_SigScheme(keyPair)\n",
    "signature = signer.sign(hash)\n",
    "print(\"Signature:\", binascii.hexlify(signature))\n",
    "\n",
    "# Verify valid PKCS#1 v1.5 signature (RSAVP1)\n",
    "msg = b'Elon Musk is the founder of Tesla'\n",
    "hash = SHA256.new(msg)\n",
    "verifier = PKCS115_SigScheme(pubKey)\n",
    "try:\n",
    "    verifier.verify(hash, signature)\n",
    "    print(\"Signature is valid.\")\n",
    "except:\n",
    "    print(\"Signature is invalid.\")\n",
    "\n",
    "# Verify invalid PKCS#1 v1.5 signature (RSAVP1)\n",
    "msg = b'Elon Musk is not the founder of Tesla'\n",
    "hash = SHA256.new(msg)\n",
    "verifier = PKCS115_SigScheme(pubKey)\n",
    "try:\n",
    "    verifier.verify(hash, signature)\n",
    "    print(\"Signature is valid.\")\n",
    "except:\n",
    "    print(\"Signature is invalid.\")"
   ]
  }
 ],
 "metadata": {
  "colab": {
   "name": "RSA.ipynb",
   "provenance": []
  },
  "kernelspec": {
   "display_name": "Python 3",
   "language": "python",
   "name": "python3"
  },
  "language_info": {
   "codemirror_mode": {
    "name": "ipython",
    "version": 3
   },
   "file_extension": ".py",
   "mimetype": "text/x-python",
   "name": "python",
   "nbconvert_exporter": "python",
   "pygments_lexer": "ipython3",
   "version": "3.8.3"
  }
 },
 "nbformat": 4,
 "nbformat_minor": 1
}
